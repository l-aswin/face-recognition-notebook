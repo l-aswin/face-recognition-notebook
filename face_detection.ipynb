{
 "cells": [
  {
   "cell_type": "code",
   "execution_count": 28,
   "id": "a9d0fb34-ea07-4782-8751-20afabf76162",
   "metadata": {},
   "outputs": [],
   "source": [
    "import cv2\n",
    "import os\n",
    "\n",
    "# Input Path\n",
    "video_path = \".\\\\face_scan.mp4\"\n",
    "\n",
    "# Output Path\n",
    "output_dir = \"\\\\person_1\"\n",
    "\n",
    "# Create the output directory if it doesn't exist\n",
    "if not os.path.exists(output_dir):\n",
    "    os.makedirs(output_dir)\n"
   ]
  },
  {
   "cell_type": "code",
   "execution_count": 29,
   "id": "f0383b43-3934-439f-848d-85bd9bbeb36a",
   "metadata": {},
   "outputs": [
    {
     "name": "stdout",
     "output_type": "stream",
     "text": [
      "total frames: 527\n",
      "frame_interval: 10\n",
      "\n",
      "\n",
      "DONE\n",
      "\n",
      "\n"
     ]
    }
   ],
   "source": [
    "# Create a VideoCapture object to read the input video\n",
    "cap = cv2.VideoCapture(video_path)\n",
    "\n",
    "# Get the total number of frames in the video\n",
    "total_frames = int(cap.get(cv2.CAP_PROP_FRAME_COUNT))\n",
    "print('total frames:',total_frames)\n",
    "\n",
    "# Calculate the frame interval to capture for 150 images\n",
    "no_samples = 50\n",
    "\n",
    "if no_samples > total_frames :\n",
    "    print('video length is too short for requested sample size')\n",
    "else:\n",
    "    frame_interval = total_frames // no_samples # change this number according to your needs \n",
    "    print('frame_interval:',frame_interval)\n",
    "\n",
    "    # Set the initial frame counter to 0\n",
    "    frame_counter = 0\n",
    "\n",
    "    while cap.isOpened():\n",
    "        # Read a frame from the video\n",
    "        ret, frame = cap.read()\n",
    "        \n",
    "        if not ret:\n",
    "            break\n",
    "        #I want to sample first 2 minutes of 5 minutes with frame interval 3 frames\n",
    "        # Check if this is the frame to capture\n",
    "        if frame_counter % frame_interval == 0 and frame_counter // frame_interval < no_samples:\n",
    "            # Save the frame as a JPEG image\n",
    "            output_path = os.path.join(output_dir, f'{frame_counter//frame_interval+1 :02}.jpg')\n",
    "            cv2.imwrite(output_path, frame)\n",
    "        \n",
    "        # Increment the frame counter\n",
    "        frame_counter += 1\n",
    "\n",
    "    # Release the video capture object\n",
    "    cap.release()\n",
    "    print(\"\\n\\nDONE\\n\\n\")\n"
   ]
  },
  {
   "cell_type": "code",
   "execution_count": null,
   "id": "7bc6d42a-f829-4015-b6ec-cf3d63887afe",
   "metadata": {},
   "outputs": [],
   "source": []
  },
  {
   "cell_type": "code",
   "execution_count": null,
   "id": "eb38d5c2-6aed-40c3-9602-da8e90c22277",
   "metadata": {},
   "outputs": [],
   "source": []
  }
 ],
 "metadata": {
  "kernelspec": {
   "display_name": "Python 3 (ipykernel)",
   "language": "python",
   "name": "python3"
  },
  "language_info": {
   "codemirror_mode": {
    "name": "ipython",
    "version": 3
   },
   "file_extension": ".py",
   "mimetype": "text/x-python",
   "name": "python",
   "nbconvert_exporter": "python",
   "pygments_lexer": "ipython3",
   "version": "3.12.9"
  }
 },
 "nbformat": 4,
 "nbformat_minor": 5
}
